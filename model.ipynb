{
 "cells": [
  {
   "cell_type": "markdown",
   "metadata": {},
   "source": [
    "# This is my attempt at tournament 101"
   ]
  },
  {
   "cell_type": "markdown",
   "metadata": {},
   "source": [
    "Using principal component analysis and logistic regression I was able to get a high enough log loss, consistency and concordance. However, the submission did not score high enough on the 'original' metric. Hopefully this is because I am submitting with 2 hours to go for this week!"
   ]
  },
  {
   "cell_type": "code",
   "execution_count": 1,
   "metadata": {},
   "outputs": [],
   "source": [
    "import numpy as np\n",
    "import math \n",
    "import pandas as pd\n",
    "import matplotlib.pyplot as plt\n",
    "%matplotlib inline\n",
    "\n",
    "from sklearn.pipeline import Pipeline\n",
    "from sklearn.linear_model import LogisticRegression\n",
    "from sklearn.model_selection import train_test_split\n",
    "from sklearn.preprocessing import StandardScaler, PolynomialFeatures\n",
    "from sklearn.decomposition import PCA\n",
    "from sklearn.metrics import log_loss"
   ]
  },
  {
   "cell_type": "code",
   "execution_count": 2,
   "metadata": {},
   "outputs": [],
   "source": [
    "df = pd.read_csv(filepath_or_buffer='numerai_training_data.csv')\n",
    "\n",
    "X = df[df.columns[3:-1]]\n",
    "X = X.values\n"
   ]
  },
  {
   "cell_type": "markdown",
   "metadata": {},
   "source": [
    "Checking data structure"
   ]
  },
  {
   "cell_type": "code",
   "execution_count": 3,
   "metadata": {},
   "outputs": [
    {
     "name": "stdout",
     "output_type": "stream",
     "text": [
      "Mean is 0.47, standard dev. is 0.13 for column 0\n",
      "Mean is 0.46, standard dev. is 0.10 for column 1\n",
      "Mean is 0.48, standard dev. is 0.12 for column 2\n",
      "Mean is 0.44, standard dev. is 0.11 for column 3\n",
      "Mean is 0.51, standard dev. is 0.11 for column 4\n",
      "Mean is 0.48, standard dev. is 0.12 for column 5\n",
      "Mean is 0.52, standard dev. is 0.12 for column 6\n",
      "Mean is 0.56, standard dev. is 0.11 for column 7\n",
      "Mean is 0.52, standard dev. is 0.10 for column 8\n",
      "Mean is 0.47, standard dev. is 0.12 for column 9\n",
      "Mean is 0.52, standard dev. is 0.11 for column 10\n",
      "Mean is 0.50, standard dev. is 0.10 for column 11\n",
      "Mean is 0.49, standard dev. is 0.12 for column 12\n",
      "Mean is 0.51, standard dev. is 0.14 for column 13\n",
      "Mean is 0.54, standard dev. is 0.12 for column 14\n",
      "Mean is 0.46, standard dev. is 0.10 for column 15\n",
      "Mean is 0.52, standard dev. is 0.12 for column 16\n",
      "Mean is 0.48, standard dev. is 0.13 for column 17\n",
      "Mean is 0.54, standard dev. is 0.12 for column 18\n",
      "Mean is 0.48, standard dev. is 0.09 for column 19\n",
      "Mean is 0.52, standard dev. is 0.14 for column 20\n",
      "Mean is 0.54, standard dev. is 0.12 for column 21\n",
      "Mean is 0.53, standard dev. is 0.09 for column 22\n",
      "Mean is 0.46, standard dev. is 0.09 for column 23\n",
      "Mean is 0.50, standard dev. is 0.12 for column 24\n",
      "Mean is 0.49, standard dev. is 0.10 for column 25\n",
      "Mean is 0.57, standard dev. is 0.10 for column 26\n",
      "Mean is 0.48, standard dev. is 0.11 for column 27\n",
      "Mean is 0.46, standard dev. is 0.12 for column 28\n",
      "Mean is 0.51, standard dev. is 0.11 for column 29\n",
      "Mean is 0.50, standard dev. is 0.13 for column 30\n",
      "Mean is 0.49, standard dev. is 0.11 for column 31\n",
      "Mean is 0.53, standard dev. is 0.13 for column 32\n",
      "Mean is 0.46, standard dev. is 0.11 for column 33\n",
      "Mean is 0.48, standard dev. is 0.12 for column 34\n",
      "Mean is 0.53, standard dev. is 0.10 for column 35\n",
      "Mean is 0.52, standard dev. is 0.11 for column 36\n",
      "Mean is 0.51, standard dev. is 0.11 for column 37\n",
      "Mean is 0.50, standard dev. is 0.11 for column 38\n",
      "Mean is 0.48, standard dev. is 0.11 for column 39\n",
      "Mean is 0.53, standard dev. is 0.12 for column 40\n",
      "Mean is 0.50, standard dev. is 0.12 for column 41\n",
      "Mean is 0.48, standard dev. is 0.12 for column 42\n",
      "Mean is 0.49, standard dev. is 0.14 for column 43\n",
      "Mean is 0.53, standard dev. is 0.12 for column 44\n",
      "Mean is 0.53, standard dev. is 0.11 for column 45\n",
      "Mean is 0.52, standard dev. is 0.11 for column 46\n",
      "Mean is 0.52, standard dev. is 0.12 for column 47\n",
      "Mean is 0.49, standard dev. is 0.11 for column 48\n",
      "Mean is 0.52, standard dev. is 0.11 for column 49\n"
     ]
    }
   ],
   "source": [
    "for i in range(0, X.shape[1]):\n",
    "    #show mean and standard deviation for each column\n",
    "    deviation = np.std(X[:,i])\n",
    "    mean = np.mean(X[:,i])\n",
    "    print(\"Mean is {0:.2f}, standard dev. is {1:.2f} for column {2}\".format(mean, deviation,i))"
   ]
  },
  {
   "cell_type": "code",
   "execution_count": 4,
   "metadata": {},
   "outputs": [],
   "source": [
    "Y = df['target'].values"
   ]
  },
  {
   "cell_type": "code",
   "execution_count": 5,
   "metadata": {},
   "outputs": [
    {
     "data": {
      "text/html": [
       "<div>\n",
       "<style scoped>\n",
       "    .dataframe tbody tr th:only-of-type {\n",
       "        vertical-align: middle;\n",
       "    }\n",
       "\n",
       "    .dataframe tbody tr th {\n",
       "        vertical-align: top;\n",
       "    }\n",
       "\n",
       "    .dataframe thead th {\n",
       "        text-align: right;\n",
       "    }\n",
       "</style>\n",
       "<table border=\"1\" class=\"dataframe\">\n",
       "  <thead>\n",
       "    <tr style=\"text-align: right;\">\n",
       "      <th></th>\n",
       "      <th>id</th>\n",
       "      <th>era</th>\n",
       "      <th>data_type</th>\n",
       "      <th>feature1</th>\n",
       "      <th>feature2</th>\n",
       "      <th>feature3</th>\n",
       "      <th>feature4</th>\n",
       "      <th>feature5</th>\n",
       "      <th>feature6</th>\n",
       "      <th>feature7</th>\n",
       "      <th>...</th>\n",
       "      <th>feature42</th>\n",
       "      <th>feature43</th>\n",
       "      <th>feature44</th>\n",
       "      <th>feature45</th>\n",
       "      <th>feature46</th>\n",
       "      <th>feature47</th>\n",
       "      <th>feature48</th>\n",
       "      <th>feature49</th>\n",
       "      <th>feature50</th>\n",
       "      <th>target</th>\n",
       "    </tr>\n",
       "  </thead>\n",
       "  <tbody>\n",
       "    <tr>\n",
       "      <th>0</th>\n",
       "      <td>n2b2e3dd163cb422</td>\n",
       "      <td>era1</td>\n",
       "      <td>train</td>\n",
       "      <td>0.43487</td>\n",
       "      <td>0.44645</td>\n",
       "      <td>0.25802</td>\n",
       "      <td>0.37149</td>\n",
       "      <td>0.62235</td>\n",
       "      <td>0.67451</td>\n",
       "      <td>0.68103</td>\n",
       "      <td>...</td>\n",
       "      <td>0.52962</td>\n",
       "      <td>0.42439</td>\n",
       "      <td>0.51680</td>\n",
       "      <td>0.46297</td>\n",
       "      <td>0.57426</td>\n",
       "      <td>0.57946</td>\n",
       "      <td>0.49646</td>\n",
       "      <td>0.48968</td>\n",
       "      <td>0.54194</td>\n",
       "      <td>1</td>\n",
       "    </tr>\n",
       "    <tr>\n",
       "      <th>1</th>\n",
       "      <td>n177021a571c94c8</td>\n",
       "      <td>era1</td>\n",
       "      <td>train</td>\n",
       "      <td>0.50038</td>\n",
       "      <td>0.39216</td>\n",
       "      <td>0.38394</td>\n",
       "      <td>0.51213</td>\n",
       "      <td>0.36660</td>\n",
       "      <td>0.46911</td>\n",
       "      <td>0.68204</td>\n",
       "      <td>...</td>\n",
       "      <td>0.51669</td>\n",
       "      <td>0.48445</td>\n",
       "      <td>0.57587</td>\n",
       "      <td>0.59860</td>\n",
       "      <td>0.67558</td>\n",
       "      <td>0.45577</td>\n",
       "      <td>0.80908</td>\n",
       "      <td>0.50287</td>\n",
       "      <td>0.61629</td>\n",
       "      <td>0</td>\n",
       "    </tr>\n",
       "    <tr>\n",
       "      <th>2</th>\n",
       "      <td>n7830fa4c0cd8466</td>\n",
       "      <td>era1</td>\n",
       "      <td>train</td>\n",
       "      <td>0.47416</td>\n",
       "      <td>0.34143</td>\n",
       "      <td>0.39528</td>\n",
       "      <td>0.46337</td>\n",
       "      <td>0.72953</td>\n",
       "      <td>0.45962</td>\n",
       "      <td>0.47869</td>\n",
       "      <td>...</td>\n",
       "      <td>0.41458</td>\n",
       "      <td>0.34804</td>\n",
       "      <td>0.29058</td>\n",
       "      <td>0.51382</td>\n",
       "      <td>0.36389</td>\n",
       "      <td>0.80602</td>\n",
       "      <td>0.39253</td>\n",
       "      <td>0.41821</td>\n",
       "      <td>0.58679</td>\n",
       "      <td>0</td>\n",
       "    </tr>\n",
       "    <tr>\n",
       "      <th>3</th>\n",
       "      <td>nc594a184cee941b</td>\n",
       "      <td>era1</td>\n",
       "      <td>train</td>\n",
       "      <td>0.48759</td>\n",
       "      <td>0.55903</td>\n",
       "      <td>0.43987</td>\n",
       "      <td>0.38834</td>\n",
       "      <td>0.44650</td>\n",
       "      <td>0.46389</td>\n",
       "      <td>0.70749</td>\n",
       "      <td>...</td>\n",
       "      <td>0.28776</td>\n",
       "      <td>0.42881</td>\n",
       "      <td>0.55402</td>\n",
       "      <td>0.53695</td>\n",
       "      <td>0.48793</td>\n",
       "      <td>0.62432</td>\n",
       "      <td>0.52898</td>\n",
       "      <td>0.49009</td>\n",
       "      <td>0.49557</td>\n",
       "      <td>0</td>\n",
       "    </tr>\n",
       "    <tr>\n",
       "      <th>4</th>\n",
       "      <td>nc5ab8667901946a</td>\n",
       "      <td>era1</td>\n",
       "      <td>train</td>\n",
       "      <td>0.23433</td>\n",
       "      <td>0.55499</td>\n",
       "      <td>0.47849</td>\n",
       "      <td>0.56990</td>\n",
       "      <td>0.64945</td>\n",
       "      <td>0.47152</td>\n",
       "      <td>0.62085</td>\n",
       "      <td>...</td>\n",
       "      <td>0.64405</td>\n",
       "      <td>0.32416</td>\n",
       "      <td>0.33193</td>\n",
       "      <td>0.58065</td>\n",
       "      <td>0.44587</td>\n",
       "      <td>0.47770</td>\n",
       "      <td>0.44020</td>\n",
       "      <td>0.47895</td>\n",
       "      <td>0.57978</td>\n",
       "      <td>0</td>\n",
       "    </tr>\n",
       "  </tbody>\n",
       "</table>\n",
       "<p>5 rows × 54 columns</p>\n",
       "</div>"
      ],
      "text/plain": [
       "                 id   era data_type  feature1  feature2  feature3  feature4  \\\n",
       "0  n2b2e3dd163cb422  era1     train   0.43487   0.44645   0.25802   0.37149   \n",
       "1  n177021a571c94c8  era1     train   0.50038   0.39216   0.38394   0.51213   \n",
       "2  n7830fa4c0cd8466  era1     train   0.47416   0.34143   0.39528   0.46337   \n",
       "3  nc594a184cee941b  era1     train   0.48759   0.55903   0.43987   0.38834   \n",
       "4  nc5ab8667901946a  era1     train   0.23433   0.55499   0.47849   0.56990   \n",
       "\n",
       "   feature5  feature6  feature7   ...    feature42  feature43  feature44  \\\n",
       "0   0.62235   0.67451   0.68103   ...      0.52962    0.42439    0.51680   \n",
       "1   0.36660   0.46911   0.68204   ...      0.51669    0.48445    0.57587   \n",
       "2   0.72953   0.45962   0.47869   ...      0.41458    0.34804    0.29058   \n",
       "3   0.44650   0.46389   0.70749   ...      0.28776    0.42881    0.55402   \n",
       "4   0.64945   0.47152   0.62085   ...      0.64405    0.32416    0.33193   \n",
       "\n",
       "   feature45  feature46  feature47  feature48  feature49  feature50  target  \n",
       "0    0.46297    0.57426    0.57946    0.49646    0.48968    0.54194       1  \n",
       "1    0.59860    0.67558    0.45577    0.80908    0.50287    0.61629       0  \n",
       "2    0.51382    0.36389    0.80602    0.39253    0.41821    0.58679       0  \n",
       "3    0.53695    0.48793    0.62432    0.52898    0.49009    0.49557       0  \n",
       "4    0.58065    0.44587    0.47770    0.44020    0.47895    0.57978       0  \n",
       "\n",
       "[5 rows x 54 columns]"
      ]
     },
     "execution_count": 5,
     "metadata": {},
     "output_type": "execute_result"
    }
   ],
   "source": [
    "df.head(5)"
   ]
  },
  {
   "cell_type": "markdown",
   "metadata": {},
   "source": [
    "This is very unstructured, poorly correlated data so we do some dimensionality reduction"
   ]
  },
  {
   "cell_type": "code",
   "execution_count": 6,
   "metadata": {},
   "outputs": [
    {
     "data": {
      "text/plain": [
       "<matplotlib.legend.Legend at 0x10b310898>"
      ]
     },
     "execution_count": 6,
     "metadata": {},
     "output_type": "execute_result"
    },
    {
     "data": {
      "image/png": "[encoded data removed]",
      "text/plain": [
       "<Figure size 720x576 with 1 Axes>"
      ]
     },
     "metadata": {},
     "output_type": "display_data"
    }
   ],
   "source": [
    "only_0s = df.loc[df['target'] == 0.0]\n",
    "only_1s = df.loc[df['target'] == 1.0]\n",
    "\n",
    "X_0s = only_0s[only_0s.columns[3:-1]].values\n",
    "X_1s = only_1s[only_1s.columns[3:-1]].values\n",
    "\n",
    "pca0s = PCA(n_components=5)\n",
    "pca0s.fit(X_0s.T)\n",
    "pca1s = PCA(n_components=5)\n",
    "pca1s.fit(X_1s.T)\n",
    "\n",
    "\n",
    "fig = plt.figure(figsize=(10,8))\n",
    "plt.plot(pca0s.components_[0][0:50], pca0s.components_[1][0:50],'bo',label='0')\n",
    "plt.plot(pca1s.components_[0][0:50], pca1s.components_[1][0:50],'ro',label='1')\n",
    "plt.legend(loc='best')"
   ]
  },
  {
   "cell_type": "code",
   "execution_count": 7,
   "metadata": {},
   "outputs": [
    {
     "data": {
      "text/html": [
       "<div>\n",
       "<style scoped>\n",
       "    .dataframe tbody tr th:only-of-type {\n",
       "        vertical-align: middle;\n",
       "    }\n",
       "\n",
       "    .dataframe tbody tr th {\n",
       "        vertical-align: top;\n",
       "    }\n",
       "\n",
       "    .dataframe thead th {\n",
       "        text-align: right;\n",
       "    }\n",
       "</style>\n",
       "<table border=\"1\" class=\"dataframe\">\n",
       "  <thead>\n",
       "    <tr style=\"text-align: right;\">\n",
       "      <th></th>\n",
       "      <th>pca1</th>\n",
       "      <th>pca2</th>\n",
       "      <th>pca3</th>\n",
       "      <th>pca4</th>\n",
       "      <th>pca5</th>\n",
       "      <th>target</th>\n",
       "    </tr>\n",
       "  </thead>\n",
       "  <tbody>\n",
       "    <tr>\n",
       "      <th>0</th>\n",
       "      <td>0.073779</td>\n",
       "      <td>-0.238492</td>\n",
       "      <td>-0.043349</td>\n",
       "      <td>-0.124319</td>\n",
       "      <td>-0.195636</td>\n",
       "      <td>1</td>\n",
       "    </tr>\n",
       "    <tr>\n",
       "      <th>1</th>\n",
       "      <td>0.340865</td>\n",
       "      <td>-0.476039</td>\n",
       "      <td>0.199380</td>\n",
       "      <td>-0.317527</td>\n",
       "      <td>0.230062</td>\n",
       "      <td>0</td>\n",
       "    </tr>\n",
       "    <tr>\n",
       "      <th>2</th>\n",
       "      <td>-0.446399</td>\n",
       "      <td>-0.145170</td>\n",
       "      <td>0.073536</td>\n",
       "      <td>0.492985</td>\n",
       "      <td>-0.460394</td>\n",
       "      <td>0</td>\n",
       "    </tr>\n",
       "  </tbody>\n",
       "</table>\n",
       "</div>"
      ],
      "text/plain": [
       "       pca1      pca2      pca3      pca4      pca5  target\n",
       "0  0.073779 -0.238492 -0.043349 -0.124319 -0.195636       1\n",
       "1  0.340865 -0.476039  0.199380 -0.317527  0.230062       0\n",
       "2 -0.446399 -0.145170  0.073536  0.492985 -0.460394       0"
      ]
     },
     "execution_count": 7,
     "metadata": {},
     "output_type": "execute_result"
    }
   ],
   "source": [
    "pca = PCA(n_components=5)\n",
    "pca.fit(X)\n",
    "\n",
    "feature_df = pd.DataFrame()\n",
    "pcas = pca.transform(X)\n",
    "feature_df['pca1'] = pcas[:,0]\n",
    "feature_df['pca2'] = pcas[:,1]\n",
    "feature_df['pca3'] = pcas[:,2]\n",
    "feature_df['pca4'] = pcas[:,3]\n",
    "feature_df['pca5'] = pcas[:,4]\n",
    "\n",
    "feature_df['target'] = Y\n",
    "\n",
    "feature_df.head(3)"
   ]
  },
  {
   "cell_type": "code",
   "execution_count": 8,
   "metadata": {},
   "outputs": [],
   "source": [
    "def model_maker(model, xs, ys, use_rbf=False):\n",
    "    poly=PolynomialFeatures(degree=3)\n",
    "    xs = poly.fit_transform(xs)\n",
    "    X_train, X_test, Y_train, Y_test = train_test_split(xs, ys, test_size=0.15)\n",
    "    clf = model\n",
    "    clf.fit(X_train, Y_train)\n",
    "    avg_dif = abs(clf.predict(X_test) - Y_test)\n",
    "    mean = np.mean(avg_dif)\n",
    "    score = clf.score(X_test, Y_test)\n",
    "    #must check the log loss for the competition\n",
    "    loss = log_loss(Y_test, clf.predict_proba(X_test))\n",
    "    print(\"Score is {0:.2f}\".format(score))\n",
    "    print(\"Log loss is {0:.6f}\".format(loss))\n",
    "    print(\"Model is {}\".format(model))"
   ]
  },
  {
   "cell_type": "code",
   "execution_count": 9,
   "metadata": {},
   "outputs": [
    {
     "name": "stdout",
     "output_type": "stream",
     "text": [
      "Score is 0.51\n",
      "Log loss is 0.692619\n",
      "Model is LogisticRegression(C=0.1, class_weight=None, dual=False, fit_intercept=True,\n",
      "          intercept_scaling=1, max_iter=100, multi_class='ovr', n_jobs=1,\n",
      "          penalty='l2', random_state=None, solver='liblinear', tol=0.0001,\n",
      "          verbose=0, warm_start=False)\n"
     ]
    }
   ],
   "source": [
    "model_maker(LogisticRegression(C=0.1), feature_df[['pca1','pca2','pca3','pca4','pca5']].values, \n",
    "            feature_df['target'].values)\n"
   ]
  },
  {
   "cell_type": "code",
   "execution_count": 10,
   "metadata": {},
   "outputs": [],
   "source": [
    "estimators = [('poly_features', PolynomialFeatures(degree=3)),\n",
    "              ('clf', LogisticRegression(C=0.5))]\n",
    "\n",
    "pipe = Pipeline(estimators)"
   ]
  },
  {
   "cell_type": "code",
   "execution_count": 11,
   "metadata": {},
   "outputs": [
    {
     "data": {
      "text/plain": [
       "Pipeline(memory=None,\n",
       "     steps=[('poly_features', PolynomialFeatures(degree=3, include_bias=True, interaction_only=False)), ('clf', LogisticRegression(C=0.5, class_weight=None, dual=False, fit_intercept=True,\n",
       "          intercept_scaling=1, max_iter=100, multi_class='ovr', n_jobs=1,\n",
       "          penalty='l2', random_state=None, solver='liblinear', tol=0.0001,\n",
       "          verbose=0, warm_start=False))])"
      ]
     },
     "execution_count": 11,
     "metadata": {},
     "output_type": "execute_result"
    }
   ],
   "source": [
    "pipe.fit(feature_df[['pca1','pca2','pca3','pca4','pca5']].values, feature_df['target'].values)"
   ]
  },
  {
   "cell_type": "code",
   "execution_count": 12,
   "metadata": {},
   "outputs": [],
   "source": [
    "tournie_df = pd.read_csv(filepath_or_buffer='numerai_tournament_data.csv')\n",
    "X_pred = tournie_df[tournie_df.columns[3:-1]]\n",
    "X_pred = X_pred.values\n",
    "\n",
    "pca_pred_features = PCA(n_components=5)\n",
    "pca_pred_features.fit(X_pred)\n",
    "pred_features = pca_pred_features.transform(X_pred)"
   ]
  },
  {
   "cell_type": "code",
   "execution_count": 13,
   "metadata": {},
   "outputs": [
    {
     "name": "stdout",
     "output_type": "stream",
     "text": [
      "Writing predictions to predictions.csv\n"
     ]
    }
   ],
   "source": [
    "predictions = pipe.predict_proba(pred_features)\n",
    "probs = predictions[:,1]\n",
    "results_df = pd.DataFrame(data={'probability':probs})\n",
    "ids = tournie_df[\"id\"]\n",
    "joined = pd.DataFrame(ids).join(results_df)\n",
    "\n",
    "print(\"Writing predictions to predictions.csv\")\n",
    "# Save the predictions out to a CSV file\n",
    "joined.to_csv(\"predictions.csv\", index=False)\n",
    "# Now you can upload these predictions on numer.ai"
   ]
  },
  {
   "cell_type": "code",
   "execution_count": 14,
   "metadata": {},
   "outputs": [],
   "source": [
    "#Can test the consistency locally\n",
    "def test_consistency(filename, prediction_data):\n",
    "    submission_data = pd.read_csv(filepath_or_buffer=filename)\n",
    "    validation_data = prediction_data[prediction_data.data_type == \"validation\"]\n",
    "    validation_submission_data = submission_data[submission_data.id.isin(validation_data.id.values)]\n",
    "    validation_eras = np.unique(validation_data.era.values)\n",
    "    num_eras = len(validation_eras)\n",
    "\n",
    "    better_than_random_era_count = 0\n",
    "    for era in validation_eras:\n",
    "        era_data = validation_data[validation_data.era == era]\n",
    "        submission_era_data = validation_submission_data[validation_submission_data.id.isin(era_data.id.values)]\n",
    "        era_data = era_data.sort_values([\"id\"])\n",
    "        submission_era_data = submission_era_data.sort_values([\"id\"])\n",
    "        logloss = log_loss(era_data.target.values, submission_era_data.probability.values)\n",
    "        if logloss < -math.log(0.5):\n",
    "            better_than_random_era_count += 1\n",
    "\n",
    "        consistency = better_than_random_era_count / num_eras * 100\n",
    "    \n",
    "    print(\"Consistency: {0:.2f}\".format(consistency))"
   ]
  },
  {
   "cell_type": "code",
   "execution_count": 15,
   "metadata": {},
   "outputs": [
    {
     "name": "stdout",
     "output_type": "stream",
     "text": [
      "Consistency: 75.00\n"
     ]
    }
   ],
   "source": [
    "pred_data = pd.read_csv(filepath_or_buffer='/Users/michael/ML/numerai/numerai_tournament_data.csv')\n",
    "\n",
    "test_consistency('predictions.csv', pred_data)"
   ]
  },
  {
   "cell_type": "markdown",
   "metadata": {},
   "source": [
    "This consistency is at the threshold value of 75%."
   ]
  },
  {
   "cell_type": "code",
   "execution_count": null,
   "metadata": {},
   "outputs": [],
   "source": []
  }
 ],
 "metadata": {
  "kernelspec": {
   "display_name": "Python 3",
   "language": "python",
   "name": "python3"
  },
  "language_info": {
   "codemirror_mode": {
    "name": "ipython",
    "version": 3
   },
   "file_extension": ".py",
   "mimetype": "text/x-python",
   "name": "python",
   "nbconvert_exporter": "python",
   "pygments_lexer": "ipython3",
   "version": "3.6.4"
  }
 },
 "nbformat": 4,
 "nbformat_minor": 2
}
